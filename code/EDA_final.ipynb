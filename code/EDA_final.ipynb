{
 "cells": [
  {
   "cell_type": "code",
   "execution_count": 1,
   "metadata": {},
   "outputs": [],
   "source": [
    "import pandas as pd\n",
    "import matplotlib.pyplot as plt\n",
    "import seaborn as sns"
   ]
  },
  {
   "cell_type": "code",
   "execution_count": 44,
   "metadata": {},
   "outputs": [
    {
     "data": {
      "text/html": [
       "<div>\n",
       "<style scoped>\n",
       "    .dataframe tbody tr th:only-of-type {\n",
       "        vertical-align: middle;\n",
       "    }\n",
       "\n",
       "    .dataframe tbody tr th {\n",
       "        vertical-align: top;\n",
       "    }\n",
       "\n",
       "    .dataframe thead th {\n",
       "        text-align: right;\n",
       "    }\n",
       "</style>\n",
       "<table border=\"1\" class=\"dataframe\">\n",
       "  <thead>\n",
       "    <tr style=\"text-align: right;\">\n",
       "      <th></th>\n",
       "      <th>Unnamed: 0</th>\n",
       "      <th>name</th>\n",
       "      <th>n_theater</th>\n",
       "      <th>n_seats</th>\n",
       "      <th>theater_name</th>\n",
       "      <th>n_seats2</th>\n",
       "      <th>attr</th>\n",
       "      <th>open</th>\n",
       "      <th>city</th>\n",
       "      <th>gu</th>\n",
       "      <th>...</th>\n",
       "      <th>lat</th>\n",
       "      <th>korea_opera</th>\n",
       "      <th>dance</th>\n",
       "      <th>musical</th>\n",
       "      <th>compound</th>\n",
       "      <th>play</th>\n",
       "      <th>opera</th>\n",
       "      <th>classic</th>\n",
       "      <th>total</th>\n",
       "      <th>total_reserved</th>\n",
       "    </tr>\n",
       "  </thead>\n",
       "  <tbody>\n",
       "    <tr>\n",
       "      <td>0</td>\n",
       "      <td>0</td>\n",
       "      <td>(재)경기문화재단</td>\n",
       "      <td>1</td>\n",
       "      <td>154</td>\n",
       "      <td>다산홀</td>\n",
       "      <td>154</td>\n",
       "      <td>공공(기타)</td>\n",
       "      <td>2001</td>\n",
       "      <td>경기</td>\n",
       "      <td>팔달구</td>\n",
       "      <td>...</td>\n",
       "      <td>37.265775</td>\n",
       "      <td>0.0</td>\n",
       "      <td>0.0</td>\n",
       "      <td>0.0</td>\n",
       "      <td>0.0</td>\n",
       "      <td>1.0</td>\n",
       "      <td>0.0</td>\n",
       "      <td>0.0</td>\n",
       "      <td>1.0</td>\n",
       "      <td>4.0</td>\n",
       "    </tr>\n",
       "    <tr>\n",
       "      <td>1</td>\n",
       "      <td>1</td>\n",
       "      <td>1M SPACE</td>\n",
       "      <td>1</td>\n",
       "      <td>0</td>\n",
       "      <td>1M SPACE</td>\n",
       "      <td>0</td>\n",
       "      <td>민간(대학로 외)</td>\n",
       "      <td>2019</td>\n",
       "      <td>서울</td>\n",
       "      <td>서대문구</td>\n",
       "      <td>...</td>\n",
       "      <td>37.557601</td>\n",
       "      <td>0.0</td>\n",
       "      <td>0.0</td>\n",
       "      <td>0.0</td>\n",
       "      <td>0.0</td>\n",
       "      <td>0.0</td>\n",
       "      <td>0.0</td>\n",
       "      <td>0.0</td>\n",
       "      <td>0.0</td>\n",
       "      <td>0.0</td>\n",
       "    </tr>\n",
       "    <tr>\n",
       "      <td>2</td>\n",
       "      <td>2</td>\n",
       "      <td>1m클래식아트홀</td>\n",
       "      <td>1</td>\n",
       "      <td>130</td>\n",
       "      <td>1m클래식아트홀</td>\n",
       "      <td>130</td>\n",
       "      <td>민간(대학로)</td>\n",
       "      <td>2007</td>\n",
       "      <td>서울</td>\n",
       "      <td>종로구</td>\n",
       "      <td>...</td>\n",
       "      <td>37.582749</td>\n",
       "      <td>0.0</td>\n",
       "      <td>0.0</td>\n",
       "      <td>0.0</td>\n",
       "      <td>0.0</td>\n",
       "      <td>0.0</td>\n",
       "      <td>0.0</td>\n",
       "      <td>0.0</td>\n",
       "      <td>0.0</td>\n",
       "      <td>0.0</td>\n",
       "    </tr>\n",
       "    <tr>\n",
       "      <td>3</td>\n",
       "      <td>3</td>\n",
       "      <td>2001 아울렛키즈홀 [구로]</td>\n",
       "      <td>1</td>\n",
       "      <td>100</td>\n",
       "      <td>2001 아울렛키즈홀 [구로]</td>\n",
       "      <td>100</td>\n",
       "      <td>민간(대학로 외)</td>\n",
       "      <td>2017</td>\n",
       "      <td>서울</td>\n",
       "      <td>구로구</td>\n",
       "      <td>...</td>\n",
       "      <td>37.498073</td>\n",
       "      <td>0.0</td>\n",
       "      <td>0.0</td>\n",
       "      <td>16.0</td>\n",
       "      <td>2.0</td>\n",
       "      <td>1.0</td>\n",
       "      <td>0.0</td>\n",
       "      <td>1.0</td>\n",
       "      <td>20.0</td>\n",
       "      <td>5186.0</td>\n",
       "    </tr>\n",
       "    <tr>\n",
       "      <td>4</td>\n",
       "      <td>4</td>\n",
       "      <td>2001 아울렛키즈홀 [수원남문]</td>\n",
       "      <td>1</td>\n",
       "      <td>100</td>\n",
       "      <td>2001 아울렛키즈홀 [수원남문]</td>\n",
       "      <td>100</td>\n",
       "      <td>민간(대학로 외)</td>\n",
       "      <td>2005</td>\n",
       "      <td>경기</td>\n",
       "      <td>팔달구</td>\n",
       "      <td>...</td>\n",
       "      <td>37.274439</td>\n",
       "      <td>0.0</td>\n",
       "      <td>0.0</td>\n",
       "      <td>22.0</td>\n",
       "      <td>1.0</td>\n",
       "      <td>1.0</td>\n",
       "      <td>0.0</td>\n",
       "      <td>0.0</td>\n",
       "      <td>24.0</td>\n",
       "      <td>2326.0</td>\n",
       "    </tr>\n",
       "  </tbody>\n",
       "</table>\n",
       "<p>5 rows × 32 columns</p>\n",
       "</div>"
      ],
      "text/plain": [
       "   Unnamed: 0                name  n_theater  n_seats        theater_name  \\\n",
       "0           0           (재)경기문화재단          1      154                 다산홀   \n",
       "1           1            1M SPACE          1        0            1M SPACE   \n",
       "2           2            1m클래식아트홀          1      130            1m클래식아트홀   \n",
       "3           3    2001 아울렛키즈홀 [구로]          1      100    2001 아울렛키즈홀 [구로]   \n",
       "4           4  2001 아울렛키즈홀 [수원남문]          1      100  2001 아울렛키즈홀 [수원남문]   \n",
       "\n",
       "  n_seats2       attr  open city    gu  ...        lat  korea_opera  dance  \\\n",
       "0      154     공공(기타)  2001   경기   팔달구  ...  37.265775          0.0    0.0   \n",
       "1        0  민간(대학로 외)  2019   서울  서대문구  ...  37.557601          0.0    0.0   \n",
       "2      130    민간(대학로)  2007   서울   종로구  ...  37.582749          0.0    0.0   \n",
       "3      100  민간(대학로 외)  2017   서울   구로구  ...  37.498073          0.0    0.0   \n",
       "4      100  민간(대학로 외)  2005   경기   팔달구  ...  37.274439          0.0    0.0   \n",
       "\n",
       "   musical  compound  play  opera  classic  total  total_reserved  \n",
       "0      0.0       0.0   1.0    0.0      0.0    1.0             4.0  \n",
       "1      0.0       0.0   0.0    0.0      0.0    0.0             0.0  \n",
       "2      0.0       0.0   0.0    0.0      0.0    0.0             0.0  \n",
       "3     16.0       2.0   1.0    0.0      1.0   20.0          5186.0  \n",
       "4     22.0       1.0   1.0    0.0      0.0   24.0          2326.0  \n",
       "\n",
       "[5 rows x 32 columns]"
      ]
     },
     "execution_count": 44,
     "metadata": {},
     "output_type": "execute_result"
    }
   ],
   "source": [
    "df.head()"
   ]
  },
  {
   "cell_type": "code",
   "execution_count": 48,
   "metadata": {
    "scrolled": true
   },
   "outputs": [
    {
     "data": {
      "text/html": [
       "<div>\n",
       "<style scoped>\n",
       "    .dataframe tbody tr th:only-of-type {\n",
       "        vertical-align: middle;\n",
       "    }\n",
       "\n",
       "    .dataframe tbody tr th {\n",
       "        vertical-align: top;\n",
       "    }\n",
       "\n",
       "    .dataframe thead th {\n",
       "        text-align: right;\n",
       "    }\n",
       "</style>\n",
       "<table border=\"1\" class=\"dataframe\">\n",
       "  <thead>\n",
       "    <tr style=\"text-align: right;\">\n",
       "      <th>city</th>\n",
       "      <th>강원</th>\n",
       "      <th>경기</th>\n",
       "      <th>경남</th>\n",
       "      <th>경북</th>\n",
       "      <th>광주</th>\n",
       "      <th>대구</th>\n",
       "      <th>대전</th>\n",
       "      <th>부산</th>\n",
       "      <th>서울</th>\n",
       "      <th>세종</th>\n",
       "      <th>울산</th>\n",
       "      <th>인천</th>\n",
       "      <th>전남</th>\n",
       "      <th>전북</th>\n",
       "      <th>제주</th>\n",
       "      <th>충남</th>\n",
       "      <th>충북</th>\n",
       "    </tr>\n",
       "  </thead>\n",
       "  <tbody>\n",
       "    <tr>\n",
       "      <td>n_seats</td>\n",
       "      <td>95025</td>\n",
       "      <td>1032833</td>\n",
       "      <td>100166</td>\n",
       "      <td>73607</td>\n",
       "      <td>74830</td>\n",
       "      <td>78981</td>\n",
       "      <td>35837</td>\n",
       "      <td>115734</td>\n",
       "      <td>1825588</td>\n",
       "      <td>4948</td>\n",
       "      <td>20403</td>\n",
       "      <td>32826</td>\n",
       "      <td>45676</td>\n",
       "      <td>116501</td>\n",
       "      <td>17056</td>\n",
       "      <td>50971</td>\n",
       "      <td>28855</td>\n",
       "    </tr>\n",
       "  </tbody>\n",
       "</table>\n",
       "</div>"
      ],
      "text/plain": [
       "city        강원       경기      경남     경북     광주     대구     대전      부산       서울  \\\n",
       "n_seats  95025  1032833  100166  73607  74830  78981  35837  115734  1825588   \n",
       "\n",
       "city       세종     울산     인천     전남      전북     제주     충남     충북  \n",
       "n_seats  4948  20403  32826  45676  116501  17056  50971  28855  "
      ]
     },
     "execution_count": 48,
     "metadata": {},
     "output_type": "execute_result"
    }
   ],
   "source": [
    "df = pd.read_csv('theater_dataset.csv', encoding='utf-8')\n",
    "df.pivot_table(index='city', values='n_seats', aggfunc='sum').T"
   ]
  },
  {
   "cell_type": "code",
   "execution_count": null,
   "metadata": {},
   "outputs": [],
   "source": []
  },
  {
   "cell_type": "code",
   "execution_count": null,
   "metadata": {},
   "outputs": [],
   "source": []
  },
  {
   "cell_type": "code",
   "execution_count": null,
   "metadata": {},
   "outputs": [],
   "source": []
  },
  {
   "cell_type": "code",
   "execution_count": 68,
   "metadata": {},
   "outputs": [
    {
     "name": "stderr",
     "output_type": "stream",
     "text": [
      "C:\\Users\\Junmin\\Anaconda3\\lib\\site-packages\\ipykernel_launcher.py:3: SettingWithCopyWarning: \n",
      "A value is trying to be set on a copy of a slice from a DataFrame\n",
      "\n",
      "See the caveats in the documentation: http://pandas.pydata.org/pandas-docs/stable/user_guide/indexing.html#returning-a-view-versus-a-copy\n",
      "  This is separate from the ipykernel package so we can avoid doing imports until\n",
      "C:\\Users\\Junmin\\Anaconda3\\lib\\site-packages\\ipykernel_launcher.py:4: SettingWithCopyWarning: \n",
      "A value is trying to be set on a copy of a slice from a DataFrame\n",
      "\n",
      "See the caveats in the documentation: http://pandas.pydata.org/pandas-docs/stable/user_guide/indexing.html#returning-a-view-versus-a-copy\n",
      "  after removing the cwd from sys.path.\n"
     ]
    }
   ],
   "source": [
    "df1 = df.copy()\n",
    "for i in range(len(df1)):\n",
    "    df1.n_seats2[i] = df1.n_seats2[i].replace(',','')\n",
    "    df1.n_seats2[i] = int(df1.n_seats2[i])\n"
   ]
  },
  {
   "cell_type": "code",
   "execution_count": 70,
   "metadata": {},
   "outputs": [
    {
     "data": {
      "text/plain": [
       "154"
      ]
     },
     "execution_count": 70,
     "metadata": {},
     "output_type": "execute_result"
    }
   ],
   "source": [
    "df1.n_seats2[0]"
   ]
  },
  {
   "cell_type": "code",
   "execution_count": 72,
   "metadata": {},
   "outputs": [
    {
     "data": {
      "text/html": [
       "<div>\n",
       "<style scoped>\n",
       "    .dataframe tbody tr th:only-of-type {\n",
       "        vertical-align: middle;\n",
       "    }\n",
       "\n",
       "    .dataframe tbody tr th {\n",
       "        vertical-align: top;\n",
       "    }\n",
       "\n",
       "    .dataframe thead th {\n",
       "        text-align: right;\n",
       "    }\n",
       "</style>\n",
       "<table border=\"1\" class=\"dataframe\">\n",
       "  <thead>\n",
       "    <tr style=\"text-align: right;\">\n",
       "      <th>city</th>\n",
       "      <th>강원</th>\n",
       "      <th>경기</th>\n",
       "      <th>경남</th>\n",
       "      <th>경북</th>\n",
       "      <th>광주</th>\n",
       "      <th>대구</th>\n",
       "      <th>대전</th>\n",
       "      <th>부산</th>\n",
       "      <th>서울</th>\n",
       "      <th>세종</th>\n",
       "      <th>울산</th>\n",
       "      <th>인천</th>\n",
       "      <th>전남</th>\n",
       "      <th>전북</th>\n",
       "      <th>제주</th>\n",
       "      <th>충남</th>\n",
       "      <th>충북</th>\n",
       "    </tr>\n",
       "  </thead>\n",
       "  <tbody>\n",
       "    <tr>\n",
       "      <td>n_seats2</td>\n",
       "      <td>60671</td>\n",
       "      <td>271105</td>\n",
       "      <td>40517</td>\n",
       "      <td>38566</td>\n",
       "      <td>17281</td>\n",
       "      <td>37242</td>\n",
       "      <td>19752</td>\n",
       "      <td>52572</td>\n",
       "      <td>382960</td>\n",
       "      <td>3974</td>\n",
       "      <td>10565</td>\n",
       "      <td>16828</td>\n",
       "      <td>26496</td>\n",
       "      <td>34798</td>\n",
       "      <td>12444</td>\n",
       "      <td>27310</td>\n",
       "      <td>20399</td>\n",
       "    </tr>\n",
       "  </tbody>\n",
       "</table>\n",
       "</div>"
      ],
      "text/plain": [
       "city         강원      경기     경남     경북     광주     대구     대전     부산      서울  \\\n",
       "n_seats2  60671  271105  40517  38566  17281  37242  19752  52572  382960   \n",
       "\n",
       "city        세종     울산     인천     전남     전북     제주     충남     충북  \n",
       "n_seats2  3974  10565  16828  26496  34798  12444  27310  20399  "
      ]
     },
     "execution_count": 72,
     "metadata": {},
     "output_type": "execute_result"
    }
   ],
   "source": [
    "df1.pivot_table(index='city', values='n_seats2', aggfunc='sum').T"
   ]
  },
  {
   "cell_type": "code",
   "execution_count": 86,
   "metadata": {},
   "outputs": [
    {
     "data": {
      "text/html": [
       "<div>\n",
       "<style scoped>\n",
       "    .dataframe tbody tr th:only-of-type {\n",
       "        vertical-align: middle;\n",
       "    }\n",
       "\n",
       "    .dataframe tbody tr th {\n",
       "        vertical-align: top;\n",
       "    }\n",
       "\n",
       "    .dataframe thead th {\n",
       "        text-align: right;\n",
       "    }\n",
       "</style>\n",
       "<table border=\"1\" class=\"dataframe\">\n",
       "  <thead>\n",
       "    <tr style=\"text-align: right;\">\n",
       "      <th>city</th>\n",
       "      <th>서울</th>\n",
       "      <th>경기</th>\n",
       "      <th>강원</th>\n",
       "      <th>부산</th>\n",
       "      <th>경남</th>\n",
       "      <th>경북</th>\n",
       "      <th>대구</th>\n",
       "      <th>전북</th>\n",
       "      <th>충남</th>\n",
       "      <th>전남</th>\n",
       "      <th>충북</th>\n",
       "      <th>대전</th>\n",
       "      <th>광주</th>\n",
       "      <th>인천</th>\n",
       "      <th>제주</th>\n",
       "      <th>울산</th>\n",
       "      <th>세종</th>\n",
       "    </tr>\n",
       "  </thead>\n",
       "  <tbody>\n",
       "    <tr>\n",
       "      <td>n_seats2</td>\n",
       "      <td>382960</td>\n",
       "      <td>271105</td>\n",
       "      <td>60671</td>\n",
       "      <td>52572</td>\n",
       "      <td>40517</td>\n",
       "      <td>38566</td>\n",
       "      <td>37242</td>\n",
       "      <td>34798</td>\n",
       "      <td>27310</td>\n",
       "      <td>26496</td>\n",
       "      <td>20399</td>\n",
       "      <td>19752</td>\n",
       "      <td>17281</td>\n",
       "      <td>16828</td>\n",
       "      <td>12444</td>\n",
       "      <td>10565</td>\n",
       "      <td>3974</td>\n",
       "    </tr>\n",
       "  </tbody>\n",
       "</table>\n",
       "</div>"
      ],
      "text/plain": [
       "city          서울      경기     강원     부산     경남     경북     대구     전북     충남  \\\n",
       "n_seats2  382960  271105  60671  52572  40517  38566  37242  34798  27310   \n",
       "\n",
       "city         전남     충북     대전     광주     인천     제주     울산    세종  \n",
       "n_seats2  26496  20399  19752  17281  16828  12444  10565  3974  "
      ]
     },
     "execution_count": 86,
     "metadata": {},
     "output_type": "execute_result"
    }
   ],
   "source": [
    "a = df1.pivot_table(index='city', values='n_seats2', aggfunc='sum')\n",
    "a.sort_values(by='n_seats2', ascending=False).T"
   ]
  },
  {
   "cell_type": "code",
   "execution_count": 87,
   "metadata": {},
   "outputs": [],
   "source": [
    "a_3 = a.sort_values(by='n_seats2', ascending=False)"
   ]
  },
  {
   "cell_type": "code",
   "execution_count": 92,
   "metadata": {},
   "outputs": [
    {
     "data": {
      "text/plain": [
       "419415"
      ]
     },
     "execution_count": 92,
     "metadata": {},
     "output_type": "execute_result"
    }
   ],
   "source": [
    "sum(a_3.n_seats2.to_list()[2:])"
   ]
  },
  {
   "cell_type": "code",
   "execution_count": 96,
   "metadata": {},
   "outputs": [
    {
     "data": {
      "text/plain": [
       "654065"
      ]
     },
     "execution_count": 96,
     "metadata": {},
     "output_type": "execute_result"
    }
   ],
   "source": [
    "sum(a_3.n_seats2[0:2])"
   ]
  },
  {
   "cell_type": "code",
   "execution_count": 94,
   "metadata": {},
   "outputs": [
    {
     "data": {
      "text/plain": [
       "654065"
      ]
     },
     "execution_count": 94,
     "metadata": {},
     "output_type": "execute_result"
    }
   ],
   "source": [
    "(a_3.n_seats2[0] + a_3.n_seats2[1])"
   ]
  },
  {
   "cell_type": "code",
   "execution_count": 98,
   "metadata": {},
   "outputs": [
    {
     "data": {
      "text/plain": [
       "60.92940716175429"
      ]
     },
     "execution_count": 98,
     "metadata": {},
     "output_type": "execute_result"
    }
   ],
   "source": [
    "(a_3.n_seats2[0] + a_3.n_seats2[1]) / sum(a_3.n_seats2[:])*100"
   ]
  },
  {
   "cell_type": "code",
   "execution_count": 82,
   "metadata": {},
   "outputs": [
    {
     "data": {
      "text/html": [
       "<div>\n",
       "<style scoped>\n",
       "    .dataframe tbody tr th:only-of-type {\n",
       "        vertical-align: middle;\n",
       "    }\n",
       "\n",
       "    .dataframe tbody tr th {\n",
       "        vertical-align: top;\n",
       "    }\n",
       "\n",
       "    .dataframe thead th {\n",
       "        text-align: right;\n",
       "    }\n",
       "</style>\n",
       "<table border=\"1\" class=\"dataframe\">\n",
       "  <thead>\n",
       "    <tr style=\"text-align: right;\">\n",
       "      <th></th>\n",
       "      <th>n_seats2</th>\n",
       "    </tr>\n",
       "    <tr>\n",
       "      <th>city</th>\n",
       "      <th></th>\n",
       "    </tr>\n",
       "  </thead>\n",
       "  <tbody>\n",
       "    <tr>\n",
       "      <td>충북</td>\n",
       "      <td>20399</td>\n",
       "    </tr>\n",
       "    <tr>\n",
       "      <td>충남</td>\n",
       "      <td>27310</td>\n",
       "    </tr>\n",
       "    <tr>\n",
       "      <td>제주</td>\n",
       "      <td>12444</td>\n",
       "    </tr>\n",
       "    <tr>\n",
       "      <td>전북</td>\n",
       "      <td>34798</td>\n",
       "    </tr>\n",
       "    <tr>\n",
       "      <td>전남</td>\n",
       "      <td>26496</td>\n",
       "    </tr>\n",
       "    <tr>\n",
       "      <td>인천</td>\n",
       "      <td>16828</td>\n",
       "    </tr>\n",
       "    <tr>\n",
       "      <td>울산</td>\n",
       "      <td>10565</td>\n",
       "    </tr>\n",
       "    <tr>\n",
       "      <td>세종</td>\n",
       "      <td>3974</td>\n",
       "    </tr>\n",
       "    <tr>\n",
       "      <td>서울</td>\n",
       "      <td>382960</td>\n",
       "    </tr>\n",
       "    <tr>\n",
       "      <td>부산</td>\n",
       "      <td>52572</td>\n",
       "    </tr>\n",
       "    <tr>\n",
       "      <td>대전</td>\n",
       "      <td>19752</td>\n",
       "    </tr>\n",
       "    <tr>\n",
       "      <td>대구</td>\n",
       "      <td>37242</td>\n",
       "    </tr>\n",
       "    <tr>\n",
       "      <td>광주</td>\n",
       "      <td>17281</td>\n",
       "    </tr>\n",
       "    <tr>\n",
       "      <td>경북</td>\n",
       "      <td>38566</td>\n",
       "    </tr>\n",
       "    <tr>\n",
       "      <td>경남</td>\n",
       "      <td>40517</td>\n",
       "    </tr>\n",
       "    <tr>\n",
       "      <td>경기</td>\n",
       "      <td>271105</td>\n",
       "    </tr>\n",
       "    <tr>\n",
       "      <td>강원</td>\n",
       "      <td>60671</td>\n",
       "    </tr>\n",
       "  </tbody>\n",
       "</table>\n",
       "</div>"
      ],
      "text/plain": [
       "      n_seats2\n",
       "city          \n",
       "충북       20399\n",
       "충남       27310\n",
       "제주       12444\n",
       "전북       34798\n",
       "전남       26496\n",
       "인천       16828\n",
       "울산       10565\n",
       "세종        3974\n",
       "서울      382960\n",
       "부산       52572\n",
       "대전       19752\n",
       "대구       37242\n",
       "광주       17281\n",
       "경북       38566\n",
       "경남       40517\n",
       "경기      271105\n",
       "강원       60671"
      ]
     },
     "execution_count": 82,
     "metadata": {},
     "output_type": "execute_result"
    }
   ],
   "source": [
    "a = a.sort_values(by='city', ascending=False)\n",
    "a.T"
   ]
  },
  {
   "cell_type": "code",
   "execution_count": 74,
   "metadata": {},
   "outputs": [],
   "source": [
    "a.columns = ['gangwon', 'gyungki','kyungnam','kyungbuk', 'gwangju','daegu','daejeon','busan','seoul','sejong','ulsan','incheon','jeonnam','jeonbuk','jeju','chungnam','chungbuk']"
   ]
  },
  {
   "cell_type": "code",
   "execution_count": 14,
   "metadata": {
    "scrolled": false
   },
   "outputs": [
    {
     "data": {
      "text/plain": [
       "<matplotlib.axes._subplots.AxesSubplot at 0x32f4f7ce08>"
      ]
     },
     "execution_count": 14,
     "metadata": {},
     "output_type": "execute_result"
    },
    {
     "data": {
      "image/png": "[encoded data removed]",
      "text/plain": [
       "<Figure size 1080x360 with 1 Axes>"
      ]
     },
     "metadata": {
      "needs_background": "light"
     },
     "output_type": "display_data"
    }
   ],
   "source": [
    "a.plot(kind='bar', figsize=(15,5))\n"
   ]
  },
  {
   "cell_type": "code",
   "execution_count": 76,
   "metadata": {},
   "outputs": [
    {
     "data": {
      "text/html": [
       "<div>\n",
       "<style scoped>\n",
       "    .dataframe tbody tr th:only-of-type {\n",
       "        vertical-align: middle;\n",
       "    }\n",
       "\n",
       "    .dataframe tbody tr th {\n",
       "        vertical-align: top;\n",
       "    }\n",
       "\n",
       "    .dataframe thead th {\n",
       "        text-align: right;\n",
       "    }\n",
       "</style>\n",
       "<table border=\"1\" class=\"dataframe\">\n",
       "  <thead>\n",
       "    <tr style=\"text-align: right;\">\n",
       "      <th></th>\n",
       "      <th>n_seats2</th>\n",
       "    </tr>\n",
       "  </thead>\n",
       "  <tbody>\n",
       "    <tr>\n",
       "      <td>seoul</td>\n",
       "      <td>382960</td>\n",
       "    </tr>\n",
       "    <tr>\n",
       "      <td>gyungki</td>\n",
       "      <td>271105</td>\n",
       "    </tr>\n",
       "    <tr>\n",
       "      <td>gangwon</td>\n",
       "      <td>60671</td>\n",
       "    </tr>\n",
       "    <tr>\n",
       "      <td>busan</td>\n",
       "      <td>52572</td>\n",
       "    </tr>\n",
       "    <tr>\n",
       "      <td>kyungnam</td>\n",
       "      <td>40517</td>\n",
       "    </tr>\n",
       "    <tr>\n",
       "      <td>kyungbuk</td>\n",
       "      <td>38566</td>\n",
       "    </tr>\n",
       "    <tr>\n",
       "      <td>daegu</td>\n",
       "      <td>37242</td>\n",
       "    </tr>\n",
       "    <tr>\n",
       "      <td>jeonbuk</td>\n",
       "      <td>34798</td>\n",
       "    </tr>\n",
       "    <tr>\n",
       "      <td>chungnam</td>\n",
       "      <td>27310</td>\n",
       "    </tr>\n",
       "    <tr>\n",
       "      <td>jeonnam</td>\n",
       "      <td>26496</td>\n",
       "    </tr>\n",
       "    <tr>\n",
       "      <td>chungbuk</td>\n",
       "      <td>20399</td>\n",
       "    </tr>\n",
       "    <tr>\n",
       "      <td>daejeon</td>\n",
       "      <td>19752</td>\n",
       "    </tr>\n",
       "    <tr>\n",
       "      <td>gwangju</td>\n",
       "      <td>17281</td>\n",
       "    </tr>\n",
       "    <tr>\n",
       "      <td>incheon</td>\n",
       "      <td>16828</td>\n",
       "    </tr>\n",
       "    <tr>\n",
       "      <td>jeju</td>\n",
       "      <td>12444</td>\n",
       "    </tr>\n",
       "    <tr>\n",
       "      <td>ulsan</td>\n",
       "      <td>10565</td>\n",
       "    </tr>\n",
       "    <tr>\n",
       "      <td>sejong</td>\n",
       "      <td>3974</td>\n",
       "    </tr>\n",
       "  </tbody>\n",
       "</table>\n",
       "</div>"
      ],
      "text/plain": [
       "          n_seats2\n",
       "seoul       382960\n",
       "gyungki     271105\n",
       "gangwon      60671\n",
       "busan        52572\n",
       "kyungnam     40517\n",
       "kyungbuk     38566\n",
       "daegu        37242\n",
       "jeonbuk      34798\n",
       "chungnam     27310\n",
       "jeonnam      26496\n",
       "chungbuk     20399\n",
       "daejeon      19752\n",
       "gwangju      17281\n",
       "incheon      16828\n",
       "jeju         12444\n",
       "ulsan        10565\n",
       "sejong        3974"
      ]
     },
     "execution_count": 76,
     "metadata": {},
     "output_type": "execute_result"
    }
   ],
   "source": [
    "a_1 = a.T\n",
    "a_2 = a_1.sort_values(by='n_seats2', ascending=False)\n",
    "a_2"
   ]
  },
  {
   "cell_type": "code",
   "execution_count": 77,
   "metadata": {
    "scrolled": true
   },
   "outputs": [
    {
     "data": {
      "text/html": [
       "<div>\n",
       "<style scoped>\n",
       "    .dataframe tbody tr th:only-of-type {\n",
       "        vertical-align: middle;\n",
       "    }\n",
       "\n",
       "    .dataframe tbody tr th {\n",
       "        vertical-align: top;\n",
       "    }\n",
       "\n",
       "    .dataframe thead th {\n",
       "        text-align: right;\n",
       "    }\n",
       "</style>\n",
       "<table border=\"1\" class=\"dataframe\">\n",
       "  <thead>\n",
       "    <tr style=\"text-align: right;\">\n",
       "      <th></th>\n",
       "      <th>seoul</th>\n",
       "      <th>gyungki</th>\n",
       "      <th>gangwon</th>\n",
       "      <th>busan</th>\n",
       "      <th>kyungnam</th>\n",
       "      <th>kyungbuk</th>\n",
       "      <th>daegu</th>\n",
       "      <th>jeonbuk</th>\n",
       "      <th>chungnam</th>\n",
       "      <th>jeonnam</th>\n",
       "      <th>chungbuk</th>\n",
       "      <th>daejeon</th>\n",
       "      <th>gwangju</th>\n",
       "      <th>incheon</th>\n",
       "      <th>jeju</th>\n",
       "      <th>ulsan</th>\n",
       "      <th>sejong</th>\n",
       "    </tr>\n",
       "  </thead>\n",
       "  <tbody>\n",
       "    <tr>\n",
       "      <td>n_seats2</td>\n",
       "      <td>382960</td>\n",
       "      <td>271105</td>\n",
       "      <td>60671</td>\n",
       "      <td>52572</td>\n",
       "      <td>40517</td>\n",
       "      <td>38566</td>\n",
       "      <td>37242</td>\n",
       "      <td>34798</td>\n",
       "      <td>27310</td>\n",
       "      <td>26496</td>\n",
       "      <td>20399</td>\n",
       "      <td>19752</td>\n",
       "      <td>17281</td>\n",
       "      <td>16828</td>\n",
       "      <td>12444</td>\n",
       "      <td>10565</td>\n",
       "      <td>3974</td>\n",
       "    </tr>\n",
       "  </tbody>\n",
       "</table>\n",
       "</div>"
      ],
      "text/plain": [
       "           seoul  gyungki  gangwon  busan  kyungnam  kyungbuk  daegu  jeonbuk  \\\n",
       "n_seats2  382960   271105    60671  52572     40517     38566  37242    34798   \n",
       "\n",
       "          chungnam  jeonnam  chungbuk  daejeon  gwangju  incheon   jeju  \\\n",
       "n_seats2     27310    26496     20399    19752    17281    16828  12444   \n",
       "\n",
       "          ulsan  sejong  \n",
       "n_seats2  10565    3974  "
      ]
     },
     "execution_count": 77,
     "metadata": {},
     "output_type": "execute_result"
    }
   ],
   "source": [
    "a_2.T"
   ]
  },
  {
   "cell_type": "code",
   "execution_count": 78,
   "metadata": {
    "scrolled": true
   },
   "outputs": [
    {
     "data": {
      "image/png": "[encoded data removed]",
      "text/plain": [
       "<Figure size 1296x360 with 1 Axes>"
      ]
     },
     "metadata": {
      "needs_background": "light"
     },
     "output_type": "display_data"
    }
   ],
   "source": [
    "plt.figure(figsize = (18,5))\n",
    "plt.bar(x = a_2.index, height = a_2.n_seats2)\n",
    "plt.show()"
   ]
  },
  {
   "cell_type": "code",
   "execution_count": 28,
   "metadata": {
    "scrolled": true
   },
   "outputs": [
    {
     "data": {
      "text/html": [
       "<div>\n",
       "<style scoped>\n",
       "    .dataframe tbody tr th:only-of-type {\n",
       "        vertical-align: middle;\n",
       "    }\n",
       "\n",
       "    .dataframe tbody tr th {\n",
       "        vertical-align: top;\n",
       "    }\n",
       "\n",
       "    .dataframe thead th {\n",
       "        text-align: right;\n",
       "    }\n",
       "</style>\n",
       "<table border=\"1\" class=\"dataframe\">\n",
       "  <thead>\n",
       "    <tr style=\"text-align: right;\">\n",
       "      <th></th>\n",
       "      <th>seoul</th>\n",
       "      <th>gyunki</th>\n",
       "      <th>busan</th>\n",
       "      <th>daegu</th>\n",
       "      <th>gyungnam</th>\n",
       "      <th>gangwon</th>\n",
       "      <th>jeonbuk</th>\n",
       "      <th>gyungbuk</th>\n",
       "      <th>chungnam</th>\n",
       "      <th>jeonnam</th>\n",
       "      <th>daejeon</th>\n",
       "      <th>gwangju</th>\n",
       "      <th>incheon</th>\n",
       "      <th>chungbuk</th>\n",
       "      <th>jeju</th>\n",
       "      <th>ulsan</th>\n",
       "      <th>sejong</th>\n",
       "    </tr>\n",
       "  </thead>\n",
       "  <tbody>\n",
       "    <tr>\n",
       "      <td>city</td>\n",
       "      <td>725</td>\n",
       "      <td>235</td>\n",
       "      <td>107</td>\n",
       "      <td>92</td>\n",
       "      <td>89</td>\n",
       "      <td>75</td>\n",
       "      <td>70</td>\n",
       "      <td>70</td>\n",
       "      <td>65</td>\n",
       "      <td>57</td>\n",
       "      <td>55</td>\n",
       "      <td>50</td>\n",
       "      <td>49</td>\n",
       "      <td>40</td>\n",
       "      <td>30</td>\n",
       "      <td>29</td>\n",
       "      <td>10</td>\n",
       "    </tr>\n",
       "  </tbody>\n",
       "</table>\n",
       "</div>"
      ],
      "text/plain": [
       "      seoul  gyunki  busan  daegu  gyungnam  gangwon  jeonbuk  gyungbuk  \\\n",
       "city    725     235    107     92        89       75       70        70   \n",
       "\n",
       "      chungnam  jeonnam  daejeon  gwangju  incheon  chungbuk  jeju  ulsan  \\\n",
       "city        65       57       55       50       49        40    30     29   \n",
       "\n",
       "      sejong  \n",
       "city      10  "
      ]
     },
     "execution_count": 28,
     "metadata": {},
     "output_type": "execute_result"
    }
   ],
   "source": [
    "b = pd.DataFrame(df.city.value_counts()).T\n",
    "b.columns = ['seoul','gyunki','busan','daegu','gyungnam','gangwon','jeonbuk','gyungbuk','chungnam','jeonnam','daejeon','gwangju','incheon','chungbuk','jeju','ulsan','sejong']\n",
    "b"
   ]
  },
  {
   "cell_type": "code",
   "execution_count": 29,
   "metadata": {},
   "outputs": [
    {
     "data": {
      "text/html": [
       "<div>\n",
       "<style scoped>\n",
       "    .dataframe tbody tr th:only-of-type {\n",
       "        vertical-align: middle;\n",
       "    }\n",
       "\n",
       "    .dataframe tbody tr th {\n",
       "        vertical-align: top;\n",
       "    }\n",
       "\n",
       "    .dataframe thead th {\n",
       "        text-align: right;\n",
       "    }\n",
       "</style>\n",
       "<table border=\"1\" class=\"dataframe\">\n",
       "  <thead>\n",
       "    <tr style=\"text-align: right;\">\n",
       "      <th></th>\n",
       "      <th>city</th>\n",
       "    </tr>\n",
       "  </thead>\n",
       "  <tbody>\n",
       "    <tr>\n",
       "      <td>seoul</td>\n",
       "      <td>725</td>\n",
       "    </tr>\n",
       "    <tr>\n",
       "      <td>gyunki</td>\n",
       "      <td>235</td>\n",
       "    </tr>\n",
       "    <tr>\n",
       "      <td>busan</td>\n",
       "      <td>107</td>\n",
       "    </tr>\n",
       "    <tr>\n",
       "      <td>daegu</td>\n",
       "      <td>92</td>\n",
       "    </tr>\n",
       "    <tr>\n",
       "      <td>gyungnam</td>\n",
       "      <td>89</td>\n",
       "    </tr>\n",
       "    <tr>\n",
       "      <td>gangwon</td>\n",
       "      <td>75</td>\n",
       "    </tr>\n",
       "    <tr>\n",
       "      <td>jeonbuk</td>\n",
       "      <td>70</td>\n",
       "    </tr>\n",
       "    <tr>\n",
       "      <td>gyungbuk</td>\n",
       "      <td>70</td>\n",
       "    </tr>\n",
       "    <tr>\n",
       "      <td>chungnam</td>\n",
       "      <td>65</td>\n",
       "    </tr>\n",
       "    <tr>\n",
       "      <td>jeonnam</td>\n",
       "      <td>57</td>\n",
       "    </tr>\n",
       "    <tr>\n",
       "      <td>daejeon</td>\n",
       "      <td>55</td>\n",
       "    </tr>\n",
       "    <tr>\n",
       "      <td>gwangju</td>\n",
       "      <td>50</td>\n",
       "    </tr>\n",
       "    <tr>\n",
       "      <td>incheon</td>\n",
       "      <td>49</td>\n",
       "    </tr>\n",
       "    <tr>\n",
       "      <td>chungbuk</td>\n",
       "      <td>40</td>\n",
       "    </tr>\n",
       "    <tr>\n",
       "      <td>jeju</td>\n",
       "      <td>30</td>\n",
       "    </tr>\n",
       "    <tr>\n",
       "      <td>ulsan</td>\n",
       "      <td>29</td>\n",
       "    </tr>\n",
       "    <tr>\n",
       "      <td>sejong</td>\n",
       "      <td>10</td>\n",
       "    </tr>\n",
       "  </tbody>\n",
       "</table>\n",
       "</div>"
      ],
      "text/plain": [
       "          city\n",
       "seoul      725\n",
       "gyunki     235\n",
       "busan      107\n",
       "daegu       92\n",
       "gyungnam    89\n",
       "gangwon     75\n",
       "jeonbuk     70\n",
       "gyungbuk    70\n",
       "chungnam    65\n",
       "jeonnam     57\n",
       "daejeon     55\n",
       "gwangju     50\n",
       "incheon     49\n",
       "chungbuk    40\n",
       "jeju        30\n",
       "ulsan       29\n",
       "sejong      10"
      ]
     },
     "execution_count": 29,
     "metadata": {},
     "output_type": "execute_result"
    }
   ],
   "source": [
    "b_1 = b.T\n",
    "b_1"
   ]
  },
  {
   "cell_type": "code",
   "execution_count": 43,
   "metadata": {},
   "outputs": [
    {
     "data": {
      "image/png": "[encoded data removed]",
      "text/plain": [
       "<Figure size 1296x360 with 1 Axes>"
      ]
     },
     "metadata": {
      "needs_background": "light"
     },
     "output_type": "display_data"
    }
   ],
   "source": [
    "plt.figure(figsize = (18,5))\n",
    "plt.bar(x = b_1.index, height = b_1.city)\n",
    "plt.show()"
   ]
  },
  {
   "cell_type": "code",
   "execution_count": 19,
   "metadata": {},
   "outputs": [
    {
     "data": {
      "text/plain": [
       "<matplotlib.axes._subplots.AxesSubplot at 0x32f62016c8>"
      ]
     },
     "execution_count": 19,
     "metadata": {},
     "output_type": "execute_result"
    },
    {
     "data": {
      "image/png": "[encoded data removed]",
      "text/plain": [
       "<Figure size 1080x360 with 1 Axes>"
      ]
     },
     "metadata": {
      "needs_background": "light"
     },
     "output_type": "display_data"
    }
   ],
   "source": [
    "a.plot(kind='bar', figsize=(15,5))"
   ]
  },
  {
   "cell_type": "code",
   "execution_count": null,
   "metadata": {},
   "outputs": [],
   "source": []
  },
  {
   "cell_type": "code",
   "execution_count": null,
   "metadata": {},
   "outputs": [],
   "source": []
  },
  {
   "cell_type": "code",
   "execution_count": null,
   "metadata": {},
   "outputs": [],
   "source": []
  },
  {
   "cell_type": "code",
   "execution_count": null,
   "metadata": {},
   "outputs": [],
   "source": []
  },
  {
   "cell_type": "code",
   "execution_count": 3,
   "metadata": {},
   "outputs": [],
   "source": [
    "df = pd.read_csv('theater_final.csv', encoding='euc-kr')"
   ]
  },
  {
   "cell_type": "code",
   "execution_count": 5,
   "metadata": {},
   "outputs": [
    {
     "data": {
      "text/html": [
       "<div>\n",
       "<style scoped>\n",
       "    .dataframe tbody tr th:only-of-type {\n",
       "        vertical-align: middle;\n",
       "    }\n",
       "\n",
       "    .dataframe tbody tr th {\n",
       "        vertical-align: top;\n",
       "    }\n",
       "\n",
       "    .dataframe thead th {\n",
       "        text-align: right;\n",
       "    }\n",
       "</style>\n",
       "<table border=\"1\" class=\"dataframe\">\n",
       "  <thead>\n",
       "    <tr style=\"text-align: right;\">\n",
       "      <th>city</th>\n",
       "      <th>강원</th>\n",
       "      <th>경기</th>\n",
       "      <th>경남</th>\n",
       "      <th>경북</th>\n",
       "      <th>광주</th>\n",
       "      <th>대구</th>\n",
       "      <th>대전</th>\n",
       "      <th>부산</th>\n",
       "      <th>서울</th>\n",
       "      <th>세종</th>\n",
       "      <th>울산</th>\n",
       "      <th>인천</th>\n",
       "      <th>전남</th>\n",
       "      <th>전북</th>\n",
       "      <th>제주</th>\n",
       "      <th>충남</th>\n",
       "      <th>충북</th>\n",
       "    </tr>\n",
       "  </thead>\n",
       "  <tbody>\n",
       "    <tr>\n",
       "      <td>n_seats</td>\n",
       "      <td>95025</td>\n",
       "      <td>1032427</td>\n",
       "      <td>100166</td>\n",
       "      <td>73607</td>\n",
       "      <td>74830</td>\n",
       "      <td>78981</td>\n",
       "      <td>35837</td>\n",
       "      <td>115734</td>\n",
       "      <td>1823744</td>\n",
       "      <td>4948</td>\n",
       "      <td>20403</td>\n",
       "      <td>32826</td>\n",
       "      <td>45676</td>\n",
       "      <td>116501</td>\n",
       "      <td>17056</td>\n",
       "      <td>50971</td>\n",
       "      <td>28855</td>\n",
       "    </tr>\n",
       "  </tbody>\n",
       "</table>\n",
       "</div>"
      ],
      "text/plain": [
       "city        강원       경기      경남     경북     광주     대구     대전      부산       서울  \\\n",
       "n_seats  95025  1032427  100166  73607  74830  78981  35837  115734  1823744   \n",
       "\n",
       "city       세종     울산     인천     전남      전북     제주     충남     충북  \n",
       "n_seats  4948  20403  32826  45676  116501  17056  50971  28855  "
      ]
     },
     "execution_count": 5,
     "metadata": {},
     "output_type": "execute_result"
    }
   ],
   "source": [
    "df.pivot_table(index='city', values='n_seats', aggfunc='sum').T"
   ]
  },
  {
   "cell_type": "code",
   "execution_count": 7,
   "metadata": {},
   "outputs": [
    {
     "data": {
      "text/plain": [
       "n_seats    3747587\n",
       "dtype: int64"
      ]
     },
     "execution_count": 7,
     "metadata": {},
     "output_type": "execute_result"
    }
   ],
   "source": [
    "import numpy as np\n",
    "np.sum(df.pivot_table(index='city', values='n_seats', aggfunc='sum'))"
   ]
  },
  {
   "cell_type": "code",
   "execution_count": 8,
   "metadata": {},
   "outputs": [
    {
     "data": {
      "text/plain": [
       "76.21360091173334"
      ]
     },
     "execution_count": 8,
     "metadata": {},
     "output_type": "execute_result"
    }
   ],
   "source": [
    "(1032427+1823744)/3747587*100"
   ]
  },
  {
   "cell_type": "code",
   "execution_count": null,
   "metadata": {},
   "outputs": [],
   "source": []
  },
  {
   "cell_type": "code",
   "execution_count": null,
   "metadata": {},
   "outputs": [],
   "source": []
  },
  {
   "cell_type": "code",
   "execution_count": null,
   "metadata": {},
   "outputs": [],
   "source": []
  },
  {
   "cell_type": "code",
   "execution_count": null,
   "metadata": {},
   "outputs": [],
   "source": []
  },
  {
   "cell_type": "code",
   "execution_count": 67,
   "metadata": {},
   "outputs": [
    {
     "data": {
      "text/html": [
       "<div>\n",
       "<style scoped>\n",
       "    .dataframe tbody tr th:only-of-type {\n",
       "        vertical-align: middle;\n",
       "    }\n",
       "\n",
       "    .dataframe tbody tr th {\n",
       "        vertical-align: top;\n",
       "    }\n",
       "\n",
       "    .dataframe thead th {\n",
       "        text-align: right;\n",
       "    }\n",
       "</style>\n",
       "<table border=\"1\" class=\"dataframe\">\n",
       "  <thead>\n",
       "    <tr style=\"text-align: right;\">\n",
       "      <th></th>\n",
       "      <th>name</th>\n",
       "      <th>n_theater</th>\n",
       "      <th>n_seats</th>\n",
       "      <th>theater_name</th>\n",
       "      <th>n_seats2</th>\n",
       "      <th>attr</th>\n",
       "      <th>open</th>\n",
       "      <th>city</th>\n",
       "      <th>gu</th>\n",
       "      <th>address</th>\n",
       "      <th>pyuneui</th>\n",
       "      <th>jangaein</th>\n",
       "      <th>jucha</th>\n",
       "    </tr>\n",
       "  </thead>\n",
       "  <tbody>\n",
       "    <tr>\n",
       "      <td>0</td>\n",
       "      <td>(재)경기문화재단</td>\n",
       "      <td>1</td>\n",
       "      <td>154</td>\n",
       "      <td>다산홀</td>\n",
       "      <td>154</td>\n",
       "      <td>공공(기타)</td>\n",
       "      <td>2001</td>\n",
       "      <td>경기</td>\n",
       "      <td>수원시</td>\n",
       "      <td>경기도 수원시 팔달구 인계로 178 (인계동)</td>\n",
       "      <td>1.0</td>\n",
       "      <td>1.0</td>\n",
       "      <td>1.0</td>\n",
       "    </tr>\n",
       "    <tr>\n",
       "      <td>1</td>\n",
       "      <td>1M SPACE</td>\n",
       "      <td>1</td>\n",
       "      <td>0</td>\n",
       "      <td>1M SPACE</td>\n",
       "      <td>0</td>\n",
       "      <td>민간(대학로 외)</td>\n",
       "      <td>2019</td>\n",
       "      <td>서울</td>\n",
       "      <td>서대문구</td>\n",
       "      <td>서울특별시 서대문구 연세로4길 27 (창천동)</td>\n",
       "      <td>0.0</td>\n",
       "      <td>0.0</td>\n",
       "      <td>0.0</td>\n",
       "    </tr>\n",
       "    <tr>\n",
       "      <td>2</td>\n",
       "      <td>1m클래식아트홀</td>\n",
       "      <td>1</td>\n",
       "      <td>130</td>\n",
       "      <td>1m클래식아트홀</td>\n",
       "      <td>130</td>\n",
       "      <td>민간(대학로)</td>\n",
       "      <td>2007</td>\n",
       "      <td>서울</td>\n",
       "      <td>종로구</td>\n",
       "      <td>서울특별시 종로구 대학로12길 31 (동숭동)</td>\n",
       "      <td>0.0</td>\n",
       "      <td>1.0</td>\n",
       "      <td>0.0</td>\n",
       "    </tr>\n",
       "    <tr>\n",
       "      <td>3</td>\n",
       "      <td>2001 아울렛키즈홀 [구로]</td>\n",
       "      <td>1</td>\n",
       "      <td>100</td>\n",
       "      <td>2001 아울렛키즈홀 [구로]</td>\n",
       "      <td>100</td>\n",
       "      <td>민간(대학로 외)</td>\n",
       "      <td>2017</td>\n",
       "      <td>서울</td>\n",
       "      <td>구로구</td>\n",
       "      <td>서울특별시 구로구 중앙로1길 36 (고척동)</td>\n",
       "      <td>1.0</td>\n",
       "      <td>1.0</td>\n",
       "      <td>1.0</td>\n",
       "    </tr>\n",
       "    <tr>\n",
       "      <td>4</td>\n",
       "      <td>2001 아울렛키즈홀 [수원남문]</td>\n",
       "      <td>1</td>\n",
       "      <td>100</td>\n",
       "      <td>2001 아울렛키즈홀 [수원남문]</td>\n",
       "      <td>100</td>\n",
       "      <td>민간(대학로 외)</td>\n",
       "      <td>2005</td>\n",
       "      <td>경기</td>\n",
       "      <td>수원시</td>\n",
       "      <td>경기도 수원시 팔달구 중부대로34번길 15 (인계동)</td>\n",
       "      <td>1.0</td>\n",
       "      <td>1.0</td>\n",
       "      <td>1.0</td>\n",
       "    </tr>\n",
       "  </tbody>\n",
       "</table>\n",
       "</div>"
      ],
      "text/plain": [
       "                 name  n_theater  n_seats        theater_name  n_seats2  \\\n",
       "0           (재)경기문화재단          1      154                 다산홀       154   \n",
       "1            1M SPACE          1        0            1M SPACE         0   \n",
       "2            1m클래식아트홀          1      130            1m클래식아트홀       130   \n",
       "3    2001 아울렛키즈홀 [구로]          1      100    2001 아울렛키즈홀 [구로]       100   \n",
       "4  2001 아울렛키즈홀 [수원남문]          1      100  2001 아울렛키즈홀 [수원남문]       100   \n",
       "\n",
       "        attr  open city    gu                        address  pyuneui  \\\n",
       "0     공공(기타)  2001   경기   수원시      경기도 수원시 팔달구 인계로 178 (인계동)      1.0   \n",
       "1  민간(대학로 외)  2019   서울  서대문구      서울특별시 서대문구 연세로4길 27 (창천동)      0.0   \n",
       "2    민간(대학로)  2007   서울   종로구      서울특별시 종로구 대학로12길 31 (동숭동)      0.0   \n",
       "3  민간(대학로 외)  2017   서울   구로구       서울특별시 구로구 중앙로1길 36 (고척동)      1.0   \n",
       "4  민간(대학로 외)  2005   경기   수원시  경기도 수원시 팔달구 중부대로34번길 15 (인계동)      1.0   \n",
       "\n",
       "   jangaein  jucha  \n",
       "0       1.0    1.0  \n",
       "1       0.0    0.0  \n",
       "2       1.0    0.0  \n",
       "3       1.0    1.0  \n",
       "4       1.0    1.0  "
      ]
     },
     "execution_count": 67,
     "metadata": {},
     "output_type": "execute_result"
    }
   ],
   "source": [
    "df_final = pd.read_csv('theater_final.csv', encoding='euc-kr')\n",
    "df_final.head()"
   ]
  },
  {
   "cell_type": "code",
   "execution_count": 68,
   "metadata": {},
   "outputs": [
    {
     "data": {
      "text/html": [
       "<div>\n",
       "<style scoped>\n",
       "    .dataframe tbody tr th:only-of-type {\n",
       "        vertical-align: middle;\n",
       "    }\n",
       "\n",
       "    .dataframe tbody tr th {\n",
       "        vertical-align: top;\n",
       "    }\n",
       "\n",
       "    .dataframe thead th {\n",
       "        text-align: right;\n",
       "    }\n",
       "</style>\n",
       "<table border=\"1\" class=\"dataframe\">\n",
       "  <thead>\n",
       "    <tr style=\"text-align: right;\">\n",
       "      <th></th>\n",
       "      <th>name</th>\n",
       "      <th>n_theater</th>\n",
       "      <th>n_seats</th>\n",
       "      <th>theater_name</th>\n",
       "      <th>n_seats2</th>\n",
       "      <th>attr</th>\n",
       "      <th>open</th>\n",
       "      <th>city</th>\n",
       "      <th>gu</th>\n",
       "      <th>address</th>\n",
       "      <th>pyuneui</th>\n",
       "      <th>jangaein</th>\n",
       "      <th>jucha</th>\n",
       "    </tr>\n",
       "  </thead>\n",
       "  <tbody>\n",
       "    <tr>\n",
       "      <td>1841</td>\n",
       "      <td>후용공연예술센터</td>\n",
       "      <td>2</td>\n",
       "      <td>320</td>\n",
       "      <td>교실극장</td>\n",
       "      <td>120</td>\n",
       "      <td>민간(대학로 외)</td>\n",
       "      <td>2001</td>\n",
       "      <td>강원</td>\n",
       "      <td>원주시</td>\n",
       "      <td>강원도 원주시 문막읍 비야동길 11</td>\n",
       "      <td>0.0</td>\n",
       "      <td>0.0</td>\n",
       "      <td>1.0</td>\n",
       "    </tr>\n",
       "    <tr>\n",
       "      <td>1842</td>\n",
       "      <td>후용공연예술센터</td>\n",
       "      <td>2</td>\n",
       "      <td>320</td>\n",
       "      <td>야외공연장</td>\n",
       "      <td>200</td>\n",
       "      <td>민간(대학로 외)</td>\n",
       "      <td>2001</td>\n",
       "      <td>강원</td>\n",
       "      <td>원주시</td>\n",
       "      <td>강원도 원주시 문막읍 비야동길 11</td>\n",
       "      <td>0.0</td>\n",
       "      <td>0.0</td>\n",
       "      <td>1.0</td>\n",
       "    </tr>\n",
       "    <tr>\n",
       "      <td>1843</td>\n",
       "      <td>흰물결아트센터</td>\n",
       "      <td>3</td>\n",
       "      <td>978</td>\n",
       "      <td>화이트홀</td>\n",
       "      <td>475</td>\n",
       "      <td>민간(대학로 외)</td>\n",
       "      <td>2007</td>\n",
       "      <td>서울</td>\n",
       "      <td>서초구</td>\n",
       "      <td>서울특별시 서초구 반포대로 150 (서초동)</td>\n",
       "      <td>0.0</td>\n",
       "      <td>0.0</td>\n",
       "      <td>0.0</td>\n",
       "    </tr>\n",
       "    <tr>\n",
       "      <td>1844</td>\n",
       "      <td>흰물결아트센터</td>\n",
       "      <td>3</td>\n",
       "      <td>978</td>\n",
       "      <td>아트홀</td>\n",
       "      <td>200</td>\n",
       "      <td>민간(대학로 외)</td>\n",
       "      <td>2007</td>\n",
       "      <td>서울</td>\n",
       "      <td>서초구</td>\n",
       "      <td>서울특별시 서초구 반포대로 150 (서초동)</td>\n",
       "      <td>0.0</td>\n",
       "      <td>0.0</td>\n",
       "      <td>0.0</td>\n",
       "    </tr>\n",
       "    <tr>\n",
       "      <td>1845</td>\n",
       "      <td>흰물결아트센터</td>\n",
       "      <td>3</td>\n",
       "      <td>978</td>\n",
       "      <td>예술극장</td>\n",
       "      <td>303</td>\n",
       "      <td>민간(대학로 외)</td>\n",
       "      <td>2007</td>\n",
       "      <td>서울</td>\n",
       "      <td>서초구</td>\n",
       "      <td>서울특별시 서초구 반포대로 150 (서초동)</td>\n",
       "      <td>0.0</td>\n",
       "      <td>0.0</td>\n",
       "      <td>0.0</td>\n",
       "    </tr>\n",
       "  </tbody>\n",
       "</table>\n",
       "</div>"
      ],
      "text/plain": [
       "          name  n_theater  n_seats theater_name  n_seats2       attr  open  \\\n",
       "1841  후용공연예술센터          2      320         교실극장       120  민간(대학로 외)  2001   \n",
       "1842  후용공연예술센터          2      320        야외공연장       200  민간(대학로 외)  2001   \n",
       "1843   흰물결아트센터          3      978         화이트홀       475  민간(대학로 외)  2007   \n",
       "1844   흰물결아트센터          3      978          아트홀       200  민간(대학로 외)  2007   \n",
       "1845   흰물결아트센터          3      978         예술극장       303  민간(대학로 외)  2007   \n",
       "\n",
       "     city   gu                   address  pyuneui  jangaein  jucha  \n",
       "1841   강원  원주시       강원도 원주시 문막읍 비야동길 11      0.0       0.0    1.0  \n",
       "1842   강원  원주시       강원도 원주시 문막읍 비야동길 11      0.0       0.0    1.0  \n",
       "1843   서울  서초구  서울특별시 서초구 반포대로 150 (서초동)      0.0       0.0    0.0  \n",
       "1844   서울  서초구  서울특별시 서초구 반포대로 150 (서초동)      0.0       0.0    0.0  \n",
       "1845   서울  서초구  서울특별시 서초구 반포대로 150 (서초동)      0.0       0.0    0.0  "
      ]
     },
     "execution_count": 68,
     "metadata": {},
     "output_type": "execute_result"
    }
   ],
   "source": [
    "df_final.tail()"
   ]
  },
  {
   "cell_type": "code",
   "execution_count": 103,
   "metadata": {},
   "outputs": [
    {
     "data": {
      "text/html": [
       "<div>\n",
       "<style scoped>\n",
       "    .dataframe tbody tr th:only-of-type {\n",
       "        vertical-align: middle;\n",
       "    }\n",
       "\n",
       "    .dataframe tbody tr th {\n",
       "        vertical-align: top;\n",
       "    }\n",
       "\n",
       "    .dataframe thead th {\n",
       "        text-align: right;\n",
       "    }\n",
       "</style>\n",
       "<table border=\"1\" class=\"dataframe\">\n",
       "  <thead>\n",
       "    <tr style=\"text-align: right;\">\n",
       "      <th></th>\n",
       "      <th>n_seats</th>\n",
       "      <th>n_seats2</th>\n",
       "      <th>open</th>\n",
       "    </tr>\n",
       "  </thead>\n",
       "  <tbody>\n",
       "    <tr>\n",
       "      <td>count</td>\n",
       "      <td>1846.000000</td>\n",
       "      <td>1846.000000</td>\n",
       "      <td>1846.000000</td>\n",
       "    </tr>\n",
       "    <tr>\n",
       "      <td>mean</td>\n",
       "      <td>2030.112134</td>\n",
       "      <td>581.122969</td>\n",
       "      <td>1777.940412</td>\n",
       "    </tr>\n",
       "    <tr>\n",
       "      <td>std</td>\n",
       "      <td>11466.726770</td>\n",
       "      <td>3337.307978</td>\n",
       "      <td>634.008376</td>\n",
       "    </tr>\n",
       "    <tr>\n",
       "      <td>min</td>\n",
       "      <td>0.000000</td>\n",
       "      <td>0.000000</td>\n",
       "      <td>0.000000</td>\n",
       "    </tr>\n",
       "    <tr>\n",
       "      <td>25%</td>\n",
       "      <td>120.750000</td>\n",
       "      <td>100.000000</td>\n",
       "      <td>1993.000000</td>\n",
       "    </tr>\n",
       "    <tr>\n",
       "      <td>50%</td>\n",
       "      <td>400.000000</td>\n",
       "      <td>201.500000</td>\n",
       "      <td>2005.000000</td>\n",
       "    </tr>\n",
       "    <tr>\n",
       "      <td>75%</td>\n",
       "      <td>1029.000000</td>\n",
       "      <td>480.000000</td>\n",
       "      <td>2012.000000</td>\n",
       "    </tr>\n",
       "    <tr>\n",
       "      <td>max</td>\n",
       "      <td>161495.000000</td>\n",
       "      <td>100000.000000</td>\n",
       "      <td>2020.000000</td>\n",
       "    </tr>\n",
       "  </tbody>\n",
       "</table>\n",
       "</div>"
      ],
      "text/plain": [
       "             n_seats       n_seats2         open\n",
       "count    1846.000000    1846.000000  1846.000000\n",
       "mean     2030.112134     581.122969  1777.940412\n",
       "std     11466.726770    3337.307978   634.008376\n",
       "min         0.000000       0.000000     0.000000\n",
       "25%       120.750000     100.000000  1993.000000\n",
       "50%       400.000000     201.500000  2005.000000\n",
       "75%      1029.000000     480.000000  2012.000000\n",
       "max    161495.000000  100000.000000  2020.000000"
      ]
     },
     "execution_count": 103,
     "metadata": {},
     "output_type": "execute_result"
    }
   ],
   "source": [
    "df_final.describe()[['n_seats','n_seats2','open']]"
   ]
  },
  {
   "cell_type": "code",
   "execution_count": 81,
   "metadata": {},
   "outputs": [
    {
     "data": {
      "image/png": "[encoded data removed]",
      "text/plain": [
       "<Figure size 432x288 with 1 Axes>"
      ]
     },
     "metadata": {
      "needs_background": "light"
     },
     "output_type": "display_data"
    }
   ],
   "source": [
    "plt.hist(df_final.n_seats,range=(df_final.n_seats.min(),4000))\n",
    "plt.title('Histogram of seats2')\n",
    "plt.show()"
   ]
  },
  {
   "cell_type": "code",
   "execution_count": 76,
   "metadata": {},
   "outputs": [
    {
     "data": {
      "image/png": "[encoded data removed]",
      "text/plain": [
       "<Figure size 432x288 with 1 Axes>"
      ]
     },
     "metadata": {
      "needs_background": "light"
     },
     "output_type": "display_data"
    }
   ],
   "source": [
    "plt.hist(df_final.n_seats2,range=(df_final.n_seats2.min(),4000))\n",
    "plt.title('Histogram of seats')\n",
    "plt.show()"
   ]
  },
  {
   "cell_type": "code",
   "execution_count": 80,
   "metadata": {},
   "outputs": [
    {
     "data": {
      "image/png": "[encoded data removed]",
      "text/plain": [
       "<Figure size 432x288 with 1 Axes>"
      ]
     },
     "metadata": {
      "needs_background": "light"
     },
     "output_type": "display_data"
    }
   ],
   "source": [
    "plt.hist(df_final.open,range=(1930,2020))\n",
    "plt.title('Histogram of open year')\n",
    "plt.show()"
   ]
  },
  {
   "cell_type": "code",
   "execution_count": 108,
   "metadata": {},
   "outputs": [
    {
     "data": {
      "text/html": [
       "<div>\n",
       "<style scoped>\n",
       "    .dataframe tbody tr th:only-of-type {\n",
       "        vertical-align: middle;\n",
       "    }\n",
       "\n",
       "    .dataframe tbody tr th {\n",
       "        vertical-align: top;\n",
       "    }\n",
       "\n",
       "    .dataframe thead th {\n",
       "        text-align: right;\n",
       "    }\n",
       "</style>\n",
       "<table border=\"1\" class=\"dataframe\">\n",
       "  <thead>\n",
       "    <tr style=\"text-align: right;\">\n",
       "      <th></th>\n",
       "      <th>서울</th>\n",
       "      <th>경기</th>\n",
       "      <th>부산</th>\n",
       "      <th>대구</th>\n",
       "      <th>경남</th>\n",
       "      <th>강원</th>\n",
       "      <th>전북</th>\n",
       "      <th>경북</th>\n",
       "      <th>충남</th>\n",
       "      <th>전남</th>\n",
       "      <th>대전</th>\n",
       "      <th>광주</th>\n",
       "      <th>인천</th>\n",
       "      <th>충북</th>\n",
       "      <th>제주</th>\n",
       "      <th>울산</th>\n",
       "      <th>세종</th>\n",
       "    </tr>\n",
       "  </thead>\n",
       "  <tbody>\n",
       "    <tr>\n",
       "      <td>city</td>\n",
       "      <td>724</td>\n",
       "      <td>234</td>\n",
       "      <td>107</td>\n",
       "      <td>92</td>\n",
       "      <td>89</td>\n",
       "      <td>75</td>\n",
       "      <td>70</td>\n",
       "      <td>70</td>\n",
       "      <td>65</td>\n",
       "      <td>57</td>\n",
       "      <td>55</td>\n",
       "      <td>50</td>\n",
       "      <td>49</td>\n",
       "      <td>40</td>\n",
       "      <td>30</td>\n",
       "      <td>29</td>\n",
       "      <td>10</td>\n",
       "    </tr>\n",
       "  </tbody>\n",
       "</table>\n",
       "</div>"
      ],
      "text/plain": [
       "       서울   경기   부산  대구  경남  강원  전북  경북  충남  전남  대전  광주  인천  충북  제주  울산  세종\n",
       "city  724  234  107  92  89  75  70  70  65  57  55  50  49  40  30  29  10"
      ]
     },
     "execution_count": 108,
     "metadata": {},
     "output_type": "execute_result"
    }
   ],
   "source": [
    "pd.DataFrame(df_final.city.value_counts()).T"
   ]
  },
  {
   "cell_type": "code",
   "execution_count": 94,
   "metadata": {},
   "outputs": [
    {
     "data": {
      "text/html": [
       "<div>\n",
       "<style scoped>\n",
       "    .dataframe tbody tr th:only-of-type {\n",
       "        vertical-align: middle;\n",
       "    }\n",
       "\n",
       "    .dataframe tbody tr th {\n",
       "        vertical-align: top;\n",
       "    }\n",
       "\n",
       "    .dataframe thead th {\n",
       "        text-align: right;\n",
       "    }\n",
       "</style>\n",
       "<table border=\"1\" class=\"dataframe\">\n",
       "  <thead>\n",
       "    <tr style=\"text-align: right;\">\n",
       "      <th></th>\n",
       "      <th>n_seats</th>\n",
       "      <th>n_seats2</th>\n",
       "    </tr>\n",
       "    <tr>\n",
       "      <th>city</th>\n",
       "      <th></th>\n",
       "      <th></th>\n",
       "    </tr>\n",
       "  </thead>\n",
       "  <tbody>\n",
       "    <tr>\n",
       "      <td>강원</td>\n",
       "      <td>1267.000000</td>\n",
       "      <td>808.946667</td>\n",
       "    </tr>\n",
       "    <tr>\n",
       "      <td>경기</td>\n",
       "      <td>4412.081197</td>\n",
       "      <td>1158.141026</td>\n",
       "    </tr>\n",
       "    <tr>\n",
       "      <td>경남</td>\n",
       "      <td>1125.460674</td>\n",
       "      <td>455.247191</td>\n",
       "    </tr>\n",
       "    <tr>\n",
       "      <td>경북</td>\n",
       "      <td>1051.528571</td>\n",
       "      <td>550.942857</td>\n",
       "    </tr>\n",
       "    <tr>\n",
       "      <td>광주</td>\n",
       "      <td>1496.600000</td>\n",
       "      <td>345.620000</td>\n",
       "    </tr>\n",
       "    <tr>\n",
       "      <td>대구</td>\n",
       "      <td>858.489130</td>\n",
       "      <td>404.804348</td>\n",
       "    </tr>\n",
       "    <tr>\n",
       "      <td>대전</td>\n",
       "      <td>651.581818</td>\n",
       "      <td>359.127273</td>\n",
       "    </tr>\n",
       "    <tr>\n",
       "      <td>부산</td>\n",
       "      <td>1081.626168</td>\n",
       "      <td>491.327103</td>\n",
       "    </tr>\n",
       "    <tr>\n",
       "      <td>서울</td>\n",
       "      <td>2518.983425</td>\n",
       "      <td>528.084254</td>\n",
       "    </tr>\n",
       "    <tr>\n",
       "      <td>세종</td>\n",
       "      <td>494.800000</td>\n",
       "      <td>397.400000</td>\n",
       "    </tr>\n",
       "    <tr>\n",
       "      <td>울산</td>\n",
       "      <td>703.551724</td>\n",
       "      <td>364.310345</td>\n",
       "    </tr>\n",
       "    <tr>\n",
       "      <td>인천</td>\n",
       "      <td>669.918367</td>\n",
       "      <td>343.428571</td>\n",
       "    </tr>\n",
       "    <tr>\n",
       "      <td>전남</td>\n",
       "      <td>801.333333</td>\n",
       "      <td>464.842105</td>\n",
       "    </tr>\n",
       "    <tr>\n",
       "      <td>전북</td>\n",
       "      <td>1664.300000</td>\n",
       "      <td>497.114286</td>\n",
       "    </tr>\n",
       "    <tr>\n",
       "      <td>제주</td>\n",
       "      <td>568.533333</td>\n",
       "      <td>414.800000</td>\n",
       "    </tr>\n",
       "    <tr>\n",
       "      <td>충남</td>\n",
       "      <td>784.169231</td>\n",
       "      <td>420.153846</td>\n",
       "    </tr>\n",
       "    <tr>\n",
       "      <td>충북</td>\n",
       "      <td>721.375000</td>\n",
       "      <td>509.975000</td>\n",
       "    </tr>\n",
       "  </tbody>\n",
       "</table>\n",
       "</div>"
      ],
      "text/plain": [
       "          n_seats     n_seats2\n",
       "city                          \n",
       "강원    1267.000000   808.946667\n",
       "경기    4412.081197  1158.141026\n",
       "경남    1125.460674   455.247191\n",
       "경북    1051.528571   550.942857\n",
       "광주    1496.600000   345.620000\n",
       "대구     858.489130   404.804348\n",
       "대전     651.581818   359.127273\n",
       "부산    1081.626168   491.327103\n",
       "서울    2518.983425   528.084254\n",
       "세종     494.800000   397.400000\n",
       "울산     703.551724   364.310345\n",
       "인천     669.918367   343.428571\n",
       "전남     801.333333   464.842105\n",
       "전북    1664.300000   497.114286\n",
       "제주     568.533333   414.800000\n",
       "충남     784.169231   420.153846\n",
       "충북     721.375000   509.975000"
      ]
     },
     "execution_count": 94,
     "metadata": {},
     "output_type": "execute_result"
    }
   ],
   "source": [
    "df_final.pivot_table(index='city',values=['n_seats','n_seats2'])"
   ]
  },
  {
   "cell_type": "code",
   "execution_count": 95,
   "metadata": {},
   "outputs": [
    {
     "data": {
      "text/plain": [
       "Index(['name', 'n_theater', 'n_seats', 'theater_name', 'n_seats2', 'attr',\n",
       "       'open', 'city', 'gu', 'address', 'pyuneui', 'jangaein', 'jucha'],\n",
       "      dtype='object')"
      ]
     },
     "execution_count": 95,
     "metadata": {},
     "output_type": "execute_result"
    }
   ],
   "source": [
    "df_final.columns"
   ]
  },
  {
   "cell_type": "code",
   "execution_count": 101,
   "metadata": {},
   "outputs": [
    {
     "data": {
      "text/html": [
       "<div>\n",
       "<style scoped>\n",
       "    .dataframe tbody tr th:only-of-type {\n",
       "        vertical-align: middle;\n",
       "    }\n",
       "\n",
       "    .dataframe tbody tr th {\n",
       "        vertical-align: top;\n",
       "    }\n",
       "\n",
       "    .dataframe thead th {\n",
       "        text-align: right;\n",
       "    }\n",
       "</style>\n",
       "<table border=\"1\" class=\"dataframe\">\n",
       "  <thead>\n",
       "    <tr style=\"text-align: right;\">\n",
       "      <th></th>\n",
       "      <th></th>\n",
       "      <th></th>\n",
       "      <th>count</th>\n",
       "    </tr>\n",
       "    <tr>\n",
       "      <th>pyuneui</th>\n",
       "      <th>jangaein</th>\n",
       "      <th>jucha</th>\n",
       "      <th></th>\n",
       "    </tr>\n",
       "  </thead>\n",
       "  <tbody>\n",
       "    <tr>\n",
       "      <td rowspan=\"4\" valign=\"top\">0.0</td>\n",
       "      <td rowspan=\"2\" valign=\"top\">0.0</td>\n",
       "      <td>0.0</td>\n",
       "      <td>289</td>\n",
       "    </tr>\n",
       "    <tr>\n",
       "      <td>1.0</td>\n",
       "      <td>340</td>\n",
       "    </tr>\n",
       "    <tr>\n",
       "      <td rowspan=\"2\" valign=\"top\">1.0</td>\n",
       "      <td>0.0</td>\n",
       "      <td>9</td>\n",
       "    </tr>\n",
       "    <tr>\n",
       "      <td>1.0</td>\n",
       "      <td>348</td>\n",
       "    </tr>\n",
       "    <tr>\n",
       "      <td rowspan=\"4\" valign=\"top\">1.0</td>\n",
       "      <td rowspan=\"2\" valign=\"top\">0.0</td>\n",
       "      <td>0.0</td>\n",
       "      <td>67</td>\n",
       "    </tr>\n",
       "    <tr>\n",
       "      <td>1.0</td>\n",
       "      <td>199</td>\n",
       "    </tr>\n",
       "    <tr>\n",
       "      <td rowspan=\"2\" valign=\"top\">1.0</td>\n",
       "      <td>0.0</td>\n",
       "      <td>9</td>\n",
       "    </tr>\n",
       "    <tr>\n",
       "      <td>1.0</td>\n",
       "      <td>585</td>\n",
       "    </tr>\n",
       "  </tbody>\n",
       "</table>\n",
       "</div>"
      ],
      "text/plain": [
       "                        count\n",
       "pyuneui jangaein jucha       \n",
       "0.0     0.0      0.0      289\n",
       "                 1.0      340\n",
       "        1.0      0.0        9\n",
       "                 1.0      348\n",
       "1.0     0.0      0.0       67\n",
       "                 1.0      199\n",
       "        1.0      0.0        9\n",
       "                 1.0      585"
      ]
     },
     "execution_count": 101,
     "metadata": {},
     "output_type": "execute_result"
    }
   ],
   "source": [
    "juyosisul_count = df_final.pivot_table(index=['pyuneui', 'jangaein', 'jucha'],values='name',aggfunc='count')\n",
    "juyosisul_count.columns=['count']\n",
    "juyosisul_count"
   ]
  }
 ],
 "metadata": {
  "kernelspec": {
   "display_name": "Python 3",
   "language": "python",
   "name": "python3"
  },
  "language_info": {
   "codemirror_mode": {
    "name": "ipython",
    "version": 3
   },
   "file_extension": ".py",
   "mimetype": "text/x-python",
   "name": "python",
   "nbconvert_exporter": "python",
   "pygments_lexer": "ipython3",
   "version": "3.7.4"
  }
 },
 "nbformat": 4,
 "nbformat_minor": 2
}
